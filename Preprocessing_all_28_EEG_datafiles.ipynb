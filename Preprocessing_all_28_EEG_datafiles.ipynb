{
  "nbformat": 4,
  "nbformat_minor": 0,
  "metadata": {
    "colab": {
      "provenance": []
    },
    "kernelspec": {
      "name": "python3",
      "display_name": "Python 3"
    },
    "language_info": {
      "name": "python"
    }
  },
  "cells": [
    {
      "cell_type": "markdown",
      "source": [
        "EEG Data is in the .EDF format and is downloaded from https://journals.plos.org/plosone/article?id=10.1371/journal.pone.0188629. Fifteen minutes of EEG data were recorded in all subjects during an eyes-closed resting state condition. Data were acquired with the sampling frequency of 250 Hz using the standard 10–20 EEG montage with 19 EEG channels: Fp1, Fp2, F7, F3, Fz, F4, F8, T3, C3, Cz, C4, T4, T5, P3, Pz, P4, T6, O1, O2. The reference electrode was placed at FCz.\n",
        "Save the zip file in the google drive before following the below steps of pre-processing all the 28 files in the dataset.\n",
        "\n",
        "Following the basic pre-processing pipeline:\n",
        "1.   Loading the data\n",
        "2.   Filtering\n",
        "3.   Re-referencing\n",
        "4.   ICA\n",
        "5.   Epoching\n",
        "6.   Autoreject\n",
        "7.   Saving the data in drive\n",
        "\n",
        "\n",
        "\n"
      ],
      "metadata": {
        "id": "kDT2175llvwe"
      }
    },
    {
      "cell_type": "code",
      "execution_count": null,
      "metadata": {
        "colab": {
          "base_uri": "https://localhost:8080/"
        },
        "collapsed": true,
        "id": "loy7z5Fd26lR",
        "outputId": "ad8c9ca3-3753-450b-a0a4-ad5b7534dd64"
      },
      "outputs": [
        {
          "output_type": "stream",
          "name": "stdout",
          "text": [
            "Collecting mne\n",
            "  Downloading mne-1.9.0-py3-none-any.whl.metadata (20 kB)\n",
            "Requirement already satisfied: decorator in /usr/local/lib/python3.11/dist-packages (from mne) (4.4.2)\n",
            "Requirement already satisfied: jinja2 in /usr/local/lib/python3.11/dist-packages (from mne) (3.1.5)\n",
            "Requirement already satisfied: lazy-loader>=0.3 in /usr/local/lib/python3.11/dist-packages (from mne) (0.4)\n",
            "Requirement already satisfied: matplotlib>=3.6 in /usr/local/lib/python3.11/dist-packages (from mne) (3.10.0)\n",
            "Requirement already satisfied: numpy<3,>=1.23 in /usr/local/lib/python3.11/dist-packages (from mne) (1.26.4)\n",
            "Requirement already satisfied: packaging in /usr/local/lib/python3.11/dist-packages (from mne) (24.2)\n",
            "Requirement already satisfied: pooch>=1.5 in /usr/local/lib/python3.11/dist-packages (from mne) (1.8.2)\n",
            "Requirement already satisfied: scipy>=1.9 in /usr/local/lib/python3.11/dist-packages (from mne) (1.13.1)\n",
            "Requirement already satisfied: tqdm in /usr/local/lib/python3.11/dist-packages (from mne) (4.67.1)\n",
            "Requirement already satisfied: contourpy>=1.0.1 in /usr/local/lib/python3.11/dist-packages (from matplotlib>=3.6->mne) (1.3.1)\n",
            "Requirement already satisfied: cycler>=0.10 in /usr/local/lib/python3.11/dist-packages (from matplotlib>=3.6->mne) (0.12.1)\n",
            "Requirement already satisfied: fonttools>=4.22.0 in /usr/local/lib/python3.11/dist-packages (from matplotlib>=3.6->mne) (4.55.7)\n",
            "Requirement already satisfied: kiwisolver>=1.3.1 in /usr/local/lib/python3.11/dist-packages (from matplotlib>=3.6->mne) (1.4.8)\n",
            "Requirement already satisfied: pillow>=8 in /usr/local/lib/python3.11/dist-packages (from matplotlib>=3.6->mne) (11.1.0)\n",
            "Requirement already satisfied: pyparsing>=2.3.1 in /usr/local/lib/python3.11/dist-packages (from matplotlib>=3.6->mne) (3.2.1)\n",
            "Requirement already satisfied: python-dateutil>=2.7 in /usr/local/lib/python3.11/dist-packages (from matplotlib>=3.6->mne) (2.8.2)\n",
            "Requirement already satisfied: platformdirs>=2.5.0 in /usr/local/lib/python3.11/dist-packages (from pooch>=1.5->mne) (4.3.6)\n",
            "Requirement already satisfied: requests>=2.19.0 in /usr/local/lib/python3.11/dist-packages (from pooch>=1.5->mne) (2.32.3)\n",
            "Requirement already satisfied: MarkupSafe>=2.0 in /usr/local/lib/python3.11/dist-packages (from jinja2->mne) (3.0.2)\n",
            "Requirement already satisfied: six>=1.5 in /usr/local/lib/python3.11/dist-packages (from python-dateutil>=2.7->matplotlib>=3.6->mne) (1.17.0)\n",
            "Requirement already satisfied: charset-normalizer<4,>=2 in /usr/local/lib/python3.11/dist-packages (from requests>=2.19.0->pooch>=1.5->mne) (3.4.1)\n",
            "Requirement already satisfied: idna<4,>=2.5 in /usr/local/lib/python3.11/dist-packages (from requests>=2.19.0->pooch>=1.5->mne) (3.10)\n",
            "Requirement already satisfied: urllib3<3,>=1.21.1 in /usr/local/lib/python3.11/dist-packages (from requests>=2.19.0->pooch>=1.5->mne) (2.3.0)\n",
            "Requirement already satisfied: certifi>=2017.4.17 in /usr/local/lib/python3.11/dist-packages (from requests>=2.19.0->pooch>=1.5->mne) (2024.12.14)\n",
            "Downloading mne-1.9.0-py3-none-any.whl (7.4 MB)\n",
            "\u001b[2K   \u001b[90m━━━━━━━━━━━━━━━━━━━━━━━━━━━━━━━━━━━━━━━━\u001b[0m \u001b[32m7.4/7.4 MB\u001b[0m \u001b[31m16.6 MB/s\u001b[0m eta \u001b[36m0:00:00\u001b[0m\n",
            "\u001b[?25hInstalling collected packages: mne\n",
            "Successfully installed mne-1.9.0\n"
          ]
        }
      ],
      "source": [
        "!pip install mne"
      ]
    },
    {
      "cell_type": "code",
      "source": [
        "!pip install neurokit2"
      ],
      "metadata": {
        "colab": {
          "base_uri": "https://localhost:8080/"
        },
        "collapsed": true,
        "id": "N7P06rfN9Dwp",
        "outputId": "91c42dc4-f630-4533-b32b-0508c8c5dd0e"
      },
      "execution_count": null,
      "outputs": [
        {
          "output_type": "stream",
          "name": "stdout",
          "text": [
            "Collecting neurokit2\n",
            "  Downloading neurokit2-0.2.10-py2.py3-none-any.whl.metadata (37 kB)\n",
            "Requirement already satisfied: requests in /usr/local/lib/python3.11/dist-packages (from neurokit2) (2.32.3)\n",
            "Requirement already satisfied: numpy in /usr/local/lib/python3.11/dist-packages (from neurokit2) (1.26.4)\n",
            "Requirement already satisfied: pandas in /usr/local/lib/python3.11/dist-packages (from neurokit2) (2.2.2)\n",
            "Requirement already satisfied: scipy in /usr/local/lib/python3.11/dist-packages (from neurokit2) (1.13.1)\n",
            "Requirement already satisfied: scikit-learn>=1.0.0 in /usr/local/lib/python3.11/dist-packages (from neurokit2) (1.6.1)\n",
            "Requirement already satisfied: matplotlib in /usr/local/lib/python3.11/dist-packages (from neurokit2) (3.10.0)\n",
            "Requirement already satisfied: joblib>=1.2.0 in /usr/local/lib/python3.11/dist-packages (from scikit-learn>=1.0.0->neurokit2) (1.4.2)\n",
            "Requirement already satisfied: threadpoolctl>=3.1.0 in /usr/local/lib/python3.11/dist-packages (from scikit-learn>=1.0.0->neurokit2) (3.5.0)\n",
            "Requirement already satisfied: contourpy>=1.0.1 in /usr/local/lib/python3.11/dist-packages (from matplotlib->neurokit2) (1.3.1)\n",
            "Requirement already satisfied: cycler>=0.10 in /usr/local/lib/python3.11/dist-packages (from matplotlib->neurokit2) (0.12.1)\n",
            "Requirement already satisfied: fonttools>=4.22.0 in /usr/local/lib/python3.11/dist-packages (from matplotlib->neurokit2) (4.55.7)\n",
            "Requirement already satisfied: kiwisolver>=1.3.1 in /usr/local/lib/python3.11/dist-packages (from matplotlib->neurokit2) (1.4.8)\n",
            "Requirement already satisfied: packaging>=20.0 in /usr/local/lib/python3.11/dist-packages (from matplotlib->neurokit2) (24.2)\n",
            "Requirement already satisfied: pillow>=8 in /usr/local/lib/python3.11/dist-packages (from matplotlib->neurokit2) (11.1.0)\n",
            "Requirement already satisfied: pyparsing>=2.3.1 in /usr/local/lib/python3.11/dist-packages (from matplotlib->neurokit2) (3.2.1)\n",
            "Requirement already satisfied: python-dateutil>=2.7 in /usr/local/lib/python3.11/dist-packages (from matplotlib->neurokit2) (2.8.2)\n",
            "Requirement already satisfied: pytz>=2020.1 in /usr/local/lib/python3.11/dist-packages (from pandas->neurokit2) (2024.2)\n",
            "Requirement already satisfied: tzdata>=2022.7 in /usr/local/lib/python3.11/dist-packages (from pandas->neurokit2) (2025.1)\n",
            "Requirement already satisfied: charset-normalizer<4,>=2 in /usr/local/lib/python3.11/dist-packages (from requests->neurokit2) (3.4.1)\n",
            "Requirement already satisfied: idna<4,>=2.5 in /usr/local/lib/python3.11/dist-packages (from requests->neurokit2) (3.10)\n",
            "Requirement already satisfied: urllib3<3,>=1.21.1 in /usr/local/lib/python3.11/dist-packages (from requests->neurokit2) (2.3.0)\n",
            "Requirement already satisfied: certifi>=2017.4.17 in /usr/local/lib/python3.11/dist-packages (from requests->neurokit2) (2024.12.14)\n",
            "Requirement already satisfied: six>=1.5 in /usr/local/lib/python3.11/dist-packages (from python-dateutil>=2.7->matplotlib->neurokit2) (1.17.0)\n",
            "Downloading neurokit2-0.2.10-py2.py3-none-any.whl (693 kB)\n",
            "\u001b[2K   \u001b[90m━━━━━━━━━━━━━━━━━━━━━━━━━━━━━━━━━━━━━━━━\u001b[0m \u001b[32m693.1/693.1 kB\u001b[0m \u001b[31m7.0 MB/s\u001b[0m eta \u001b[36m0:00:00\u001b[0m\n",
            "\u001b[?25hInstalling collected packages: neurokit2\n",
            "Successfully installed neurokit2-0.2.10\n"
          ]
        }
      ]
    },
    {
      "cell_type": "code",
      "source": [
        "!pip install autoreject"
      ],
      "metadata": {
        "colab": {
          "base_uri": "https://localhost:8080/"
        },
        "collapsed": true,
        "id": "buxfTKuj9p44",
        "outputId": "861aca42-8896-432b-d373-9680631a0cae"
      },
      "execution_count": null,
      "outputs": [
        {
          "output_type": "stream",
          "name": "stdout",
          "text": [
            "Collecting autoreject\n",
            "  Downloading autoreject-0.4.3-py3-none-any.whl.metadata (6.3 kB)\n",
            "Requirement already satisfied: numpy>=1.20.2 in /usr/local/lib/python3.11/dist-packages (from autoreject) (1.26.4)\n",
            "Requirement already satisfied: scipy>=1.6.3 in /usr/local/lib/python3.11/dist-packages (from autoreject) (1.13.1)\n",
            "Requirement already satisfied: mne>=1.0 in /usr/local/lib/python3.11/dist-packages (from mne[hdf5]>=1.0->autoreject) (1.9.0)\n",
            "Requirement already satisfied: scikit-learn>=0.24.2 in /usr/local/lib/python3.11/dist-packages (from autoreject) (1.6.1)\n",
            "Requirement already satisfied: joblib in /usr/local/lib/python3.11/dist-packages (from autoreject) (1.4.2)\n",
            "Requirement already satisfied: matplotlib>=3.4.0 in /usr/local/lib/python3.11/dist-packages (from autoreject) (3.10.0)\n",
            "Requirement already satisfied: contourpy>=1.0.1 in /usr/local/lib/python3.11/dist-packages (from matplotlib>=3.4.0->autoreject) (1.3.1)\n",
            "Requirement already satisfied: cycler>=0.10 in /usr/local/lib/python3.11/dist-packages (from matplotlib>=3.4.0->autoreject) (0.12.1)\n",
            "Requirement already satisfied: fonttools>=4.22.0 in /usr/local/lib/python3.11/dist-packages (from matplotlib>=3.4.0->autoreject) (4.55.7)\n",
            "Requirement already satisfied: kiwisolver>=1.3.1 in /usr/local/lib/python3.11/dist-packages (from matplotlib>=3.4.0->autoreject) (1.4.8)\n",
            "Requirement already satisfied: packaging>=20.0 in /usr/local/lib/python3.11/dist-packages (from matplotlib>=3.4.0->autoreject) (24.2)\n",
            "Requirement already satisfied: pillow>=8 in /usr/local/lib/python3.11/dist-packages (from matplotlib>=3.4.0->autoreject) (11.1.0)\n",
            "Requirement already satisfied: pyparsing>=2.3.1 in /usr/local/lib/python3.11/dist-packages (from matplotlib>=3.4.0->autoreject) (3.2.1)\n",
            "Requirement already satisfied: python-dateutil>=2.7 in /usr/local/lib/python3.11/dist-packages (from matplotlib>=3.4.0->autoreject) (2.8.2)\n",
            "Requirement already satisfied: decorator in /usr/local/lib/python3.11/dist-packages (from mne>=1.0->mne[hdf5]>=1.0->autoreject) (4.4.2)\n",
            "Requirement already satisfied: jinja2 in /usr/local/lib/python3.11/dist-packages (from mne>=1.0->mne[hdf5]>=1.0->autoreject) (3.1.5)\n",
            "Requirement already satisfied: lazy-loader>=0.3 in /usr/local/lib/python3.11/dist-packages (from mne>=1.0->mne[hdf5]>=1.0->autoreject) (0.4)\n",
            "Requirement already satisfied: pooch>=1.5 in /usr/local/lib/python3.11/dist-packages (from mne>=1.0->mne[hdf5]>=1.0->autoreject) (1.8.2)\n",
            "Requirement already satisfied: tqdm in /usr/local/lib/python3.11/dist-packages (from mne>=1.0->mne[hdf5]>=1.0->autoreject) (4.67.1)\n",
            "Collecting h5io>=0.2.4 (from mne[hdf5]>=1.0->autoreject)\n",
            "  Downloading h5io-0.2.4-py3-none-any.whl.metadata (3.9 kB)\n",
            "Collecting pymatreader (from mne[hdf5]>=1.0->autoreject)\n",
            "  Downloading pymatreader-1.0.0-py3-none-any.whl.metadata (1.5 kB)\n",
            "Requirement already satisfied: threadpoolctl>=3.1.0 in /usr/local/lib/python3.11/dist-packages (from scikit-learn>=0.24.2->autoreject) (3.5.0)\n",
            "Requirement already satisfied: h5py in /usr/local/lib/python3.11/dist-packages (from h5io>=0.2.4->mne[hdf5]>=1.0->autoreject) (3.12.1)\n",
            "Requirement already satisfied: platformdirs>=2.5.0 in /usr/local/lib/python3.11/dist-packages (from pooch>=1.5->mne>=1.0->mne[hdf5]>=1.0->autoreject) (4.3.6)\n",
            "Requirement already satisfied: requests>=2.19.0 in /usr/local/lib/python3.11/dist-packages (from pooch>=1.5->mne>=1.0->mne[hdf5]>=1.0->autoreject) (2.32.3)\n",
            "Requirement already satisfied: six>=1.5 in /usr/local/lib/python3.11/dist-packages (from python-dateutil>=2.7->matplotlib>=3.4.0->autoreject) (1.17.0)\n",
            "Requirement already satisfied: MarkupSafe>=2.0 in /usr/local/lib/python3.11/dist-packages (from jinja2->mne>=1.0->mne[hdf5]>=1.0->autoreject) (3.0.2)\n",
            "Collecting xmltodict (from pymatreader->mne[hdf5]>=1.0->autoreject)\n",
            "  Downloading xmltodict-0.14.2-py2.py3-none-any.whl.metadata (8.0 kB)\n",
            "Requirement already satisfied: charset-normalizer<4,>=2 in /usr/local/lib/python3.11/dist-packages (from requests>=2.19.0->pooch>=1.5->mne>=1.0->mne[hdf5]>=1.0->autoreject) (3.4.1)\n",
            "Requirement already satisfied: idna<4,>=2.5 in /usr/local/lib/python3.11/dist-packages (from requests>=2.19.0->pooch>=1.5->mne>=1.0->mne[hdf5]>=1.0->autoreject) (3.10)\n",
            "Requirement already satisfied: urllib3<3,>=1.21.1 in /usr/local/lib/python3.11/dist-packages (from requests>=2.19.0->pooch>=1.5->mne>=1.0->mne[hdf5]>=1.0->autoreject) (2.3.0)\n",
            "Requirement already satisfied: certifi>=2017.4.17 in /usr/local/lib/python3.11/dist-packages (from requests>=2.19.0->pooch>=1.5->mne>=1.0->mne[hdf5]>=1.0->autoreject) (2024.12.14)\n",
            "Downloading autoreject-0.4.3-py3-none-any.whl (29 kB)\n",
            "Downloading h5io-0.2.4-py3-none-any.whl (17 kB)\n",
            "Downloading pymatreader-1.0.0-py3-none-any.whl (9.3 kB)\n",
            "Downloading xmltodict-0.14.2-py2.py3-none-any.whl (10.0 kB)\n",
            "Installing collected packages: xmltodict, pymatreader, h5io, autoreject\n",
            "Successfully installed autoreject-0.4.3 h5io-0.2.4 pymatreader-1.0.0 xmltodict-0.14.2\n"
          ]
        }
      ]
    },
    {
      "cell_type": "code",
      "source": [
        "from glob import glob\n",
        "import mne\n",
        "mne.set_log_level('error')\n",
        "import numpy as np\n",
        "import matplotlib.pyplot as plt\n",
        "import neurokit2 as nk\n",
        "import autoreject"
      ],
      "metadata": {
        "id": "h9M5bJ9K5ap3"
      },
      "execution_count": null,
      "outputs": []
    },
    {
      "cell_type": "code",
      "source": [
        "import zipfile\n",
        "!unzip /content/drive/MyDrive/Data_files/dataverse_files.zip"
      ],
      "metadata": {
        "colab": {
          "base_uri": "https://localhost:8080/"
        },
        "collapsed": true,
        "id": "nZ4JZCmZ5fJ7",
        "outputId": "b788a809-e3d5-42b2-a12b-757fbc5332d3"
      },
      "execution_count": null,
      "outputs": [
        {
          "output_type": "stream",
          "name": "stdout",
          "text": [
            "Archive:  /content/drive/MyDrive/Data_files/dataverse_files.zip\n",
            "  inflating: h01.edf                 \n",
            "  inflating: h02.edf                 \n",
            "  inflating: h03.edf                 \n",
            "  inflating: h04.edf                 \n",
            "  inflating: h05.edf                 \n",
            "  inflating: h06.edf                 \n",
            "  inflating: h07.edf                 \n",
            "  inflating: h08.edf                 \n",
            "  inflating: h09.edf                 \n",
            "  inflating: h10.edf                 \n",
            "  inflating: h11.edf                 \n",
            "  inflating: h12.edf                 \n",
            "  inflating: h13.edf                 \n",
            "  inflating: h14.edf                 \n",
            "  inflating: s01.edf                 \n",
            "  inflating: s02.edf                 \n",
            "  inflating: s03.edf                 \n",
            "  inflating: s04.edf                 \n",
            "  inflating: s05.edf                 \n",
            "  inflating: s06.edf                 \n",
            "  inflating: s07.edf                 \n",
            "  inflating: s08.edf                 \n",
            "  inflating: s09.edf                 \n",
            "  inflating: s10.edf                 \n",
            "  inflating: s11.edf                 \n",
            "  inflating: s12.edf                 \n",
            "  inflating: s13.edf                 \n",
            "  inflating: s14.edf                 \n",
            "  inflating: MANIFEST.TXT            \n"
          ]
        }
      ]
    },
    {
      "cell_type": "code",
      "source": [
        "all_file_path = glob('*.edf')\n",
        "print(len(all_file_path))"
      ],
      "metadata": {
        "colab": {
          "base_uri": "https://localhost:8080/"
        },
        "id": "tytn3Rzo6I6x",
        "outputId": "b16eed32-4b46-4f74-fb26-f8c1efe0d4a4"
      },
      "execution_count": null,
      "outputs": [
        {
          "output_type": "stream",
          "name": "stdout",
          "text": [
            "28\n"
          ]
        }
      ]
    },
    {
      "cell_type": "code",
      "source": [
        "all_file_path[0]"
      ],
      "metadata": {
        "colab": {
          "base_uri": "https://localhost:8080/",
          "height": 35
        },
        "id": "9C_zEYZI6Lbr",
        "outputId": "ac17b71e-05e8-4af5-bfe3-59e839baeacb"
      },
      "execution_count": null,
      "outputs": [
        {
          "output_type": "execute_result",
          "data": {
            "text/plain": [
              "'s03.edf'"
            ],
            "application/vnd.google.colaboratory.intrinsic+json": {
              "type": "string"
            }
          },
          "metadata": {},
          "execution_count": 7
        }
      ]
    },
    {
      "cell_type": "code",
      "source": [
        "healthy_file_path = [i for i in all_file_path if 'h' in i]\n",
        "patient_file_path = [i for i in all_file_path if 's' in i]\n",
        "print(len(healthy_file_path), len(patient_file_path))"
      ],
      "metadata": {
        "colab": {
          "base_uri": "https://localhost:8080/"
        },
        "id": "UqAromd76NLI",
        "outputId": "d39c37cb-bbd0-4ac6-a78b-1e61fccbde94"
      },
      "execution_count": null,
      "outputs": [
        {
          "output_type": "stream",
          "name": "stdout",
          "text": [
            "14 14\n"
          ]
        }
      ]
    },
    {
      "cell_type": "code",
      "source": [
        "healthy_file_path[0]"
      ],
      "metadata": {
        "colab": {
          "base_uri": "https://localhost:8080/",
          "height": 35
        },
        "id": "CCIh2w3aI-D0",
        "outputId": "9ef606f0-e188-4d34-b9f0-dd6cb96330e2"
      },
      "execution_count": null,
      "outputs": [
        {
          "output_type": "execute_result",
          "data": {
            "text/plain": [
              "'h01.edf'"
            ],
            "application/vnd.google.colaboratory.intrinsic+json": {
              "type": "string"
            }
          },
          "metadata": {},
          "execution_count": 9
        }
      ]
    },
    {
      "cell_type": "code",
      "source": [
        "def read_data(file_path):\n",
        "\n",
        "  #Loading the data\n",
        "  data = mne.io.read_raw_edf(file_path, preload = True)\n",
        "  data.set_montage('standard_1020')\n",
        "  data.filter(l_freq=0.5,h_freq=45)\n",
        "  data.set_eeg_reference()\n",
        "\n",
        "  #Copy raw data for ICA (to avoid modifying original)\n",
        "  raw_copy = data.copy()\n",
        "\n",
        "  #Fit ICA\n",
        "  ica = mne.preprocessing.ICA(n_components=10, random_state=42)\n",
        "  ica.fit(raw_copy)\n",
        "\n",
        "  #Find artifact components\n",
        "\n",
        "  def  find_bad_ecg_indices(data,threshold):\n",
        "    ecg_signal = data.get_data(picks='Fp1')[0]  # Select a surrogate channel with strong cardiac artifacts\n",
        "    rpeaks, info = nk.ecg_peaks(ecg_signal, sampling_rate=data.info['sfreq'])   # Process the signal to detect R-peaks\n",
        "    rpeaks_array = rpeaks['ECG_R_Peaks'].to_numpy()  # Convert the Series to a NumPy array\n",
        "    ica_scores = ica.score_sources(data, target=rpeaks_array)  # Use detected R-peaks to correlate with ICA components\n",
        "    ecg_indices = [i for i, score in enumerate(ica_scores) if abs(score) > threshold]\n",
        "    return ecg_indices\n",
        "\n",
        "  def  find_bad_emg_indices(data,threshold):\n",
        "    emg_signal = data.get_data(picks='Fp1')[0]  # Extract data from a noisy EEG channel as a proxy for EMG\n",
        "    emg_cleaned = nk.emg_clean(emg_signal, sampling_rate=data.info['sfreq'])   # Process EMG signal and detect bursts\n",
        "    bursts = nk.emg_amplitude(emg_cleaned)\n",
        "    ica_scores = ica.score_sources(data, target=bursts)  # Use the EMG bursts to identify noisy ICA components\n",
        "    emg_indices = [i for i, score in enumerate(ica_scores) if abs(score) > threshold]\n",
        "    return emg_indices\n",
        "\n",
        "  def  find_saccade_indices(data,threshold):\n",
        "    eog_signal = data.get_data(picks=['F8', 'F7']).mean(axis=0)\n",
        "    saccades = nk.eog_findpeaks(eog_signal, sampling_rate=data.info['sfreq'])\n",
        "    n_samples = data.n_times    # Total time points in EEG recording\n",
        "    saccade_binary = np.zeros(n_samples)  # Create a zero-filled array of length n_samples\n",
        "    saccade_binary[saccades] = 1  # Mark saccade event locations with 1\n",
        "    ica_scores = ica.score_sources(data, target=saccade_binary)  # Score ICA Components Based on Saccades\n",
        "    saccade_indices = [i for i, score in enumerate(ica_scores) if abs(score) > threshold]\n",
        "    return saccade_indices\n",
        "\n",
        "  #Identify and remove artifacts\n",
        "  eog_indices, _ = ica.find_bads_eog(raw_copy, ch_name=['Fp1', 'Fp2'], threshold=2)\n",
        "  ecg_indices  = find_bad_ecg_indices(raw_copy,threshold=0.5)\n",
        "  emg_indices = find_bad_emg_indices(raw_copy, threshold=0.5)\n",
        "  saccade_indices = find_saccade_indices(raw_copy, threshold=0.1)\n",
        "\n",
        "  artifact_indices = list(set(eog_indices + ecg_indices + emg_indices + saccade_indices))\n",
        "\n",
        "  ica.exclude = artifact_indices\n",
        "  cleaned_data = ica.apply(raw_copy, exclude=ica.exclude)\n",
        "\n",
        "  #Create epochs from cleaned data\n",
        "  epochs= mne.make_fixed_length_epochs(cleaned_data,duration=5,overlap=1)\n",
        "  epochs.load_data()\n",
        "\n",
        "  #AutoReject\n",
        "  ar = autoreject.AutoReject(n_interpolate=[1, 2, 3, 4], random_state=11,\n",
        "                           n_jobs=1, verbose=False)\n",
        "  ar.fit(epochs)\n",
        "  epochs_ar, reject_log = ar.transform(epochs, return_log=True)\n",
        "  array= epochs_ar.get_data()\n",
        "\n",
        "  return array"
      ],
      "metadata": {
        "id": "7wrr5EQz6POd"
      },
      "execution_count": null,
      "outputs": []
    },
    {
      "cell_type": "code",
      "source": [
        "sample_data=read_data(healthy_file_path[0])"
      ],
      "metadata": {
        "collapsed": true,
        "id": "4mdqUi_o6UZ4"
      },
      "execution_count": null,
      "outputs": []
    },
    {
      "cell_type": "code",
      "source": [
        "sample_data.shape #no of epochs , channels , length of signal(Number of time points in each epoch.)"
      ],
      "metadata": {
        "colab": {
          "base_uri": "https://localhost:8080/"
        },
        "id": "v7fR4Xay6cc4",
        "outputId": "1c4daf1d-b6db-4eba-aa82-9afdffb3260f"
      },
      "execution_count": null,
      "outputs": [
        {
          "output_type": "execute_result",
          "data": {
            "text/plain": [
              "(231, 19, 1250)"
            ]
          },
          "metadata": {},
          "execution_count": 12
        }
      ]
    },
    {
      "cell_type": "code",
      "source": [
        "%%capture\n",
        "control_epochs_array = [read_data(i) for i in healthy_file_path]\n",
        "patient_epochs_array = [read_data(i) for i in patient_file_path]"
      ],
      "metadata": {
        "id": "6komPPo66e84"
      },
      "execution_count": null,
      "outputs": []
    },
    {
      "cell_type": "code",
      "source": [
        "control_epochs_array[0].shape"
      ],
      "metadata": {
        "colab": {
          "base_uri": "https://localhost:8080/"
        },
        "id": "Fr4ccT9b6mc8",
        "outputId": "02074f90-b653-471e-9770-db8ba0f609a0"
      },
      "execution_count": null,
      "outputs": [
        {
          "output_type": "execute_result",
          "data": {
            "text/plain": [
              "(231, 19, 1250)"
            ]
          },
          "metadata": {},
          "execution_count": 14
        }
      ]
    },
    {
      "cell_type": "code",
      "source": [
        "control_epochs_labels = [len(i)*[0] for i in control_epochs_array]\n",
        "patient_epochs_labels = [len(i)*[1] for i in patient_epochs_array]\n",
        "print(len(control_epochs_labels), len(patient_epochs_labels))"
      ],
      "metadata": {
        "colab": {
          "base_uri": "https://localhost:8080/"
        },
        "id": "CoBehhj56ppl",
        "outputId": "250aad29-2f1d-463d-f3cb-b13f2399bccd"
      },
      "execution_count": null,
      "outputs": [
        {
          "output_type": "stream",
          "name": "stdout",
          "text": [
            "14 14\n"
          ]
        }
      ]
    },
    {
      "cell_type": "code",
      "source": [
        "epochs_array = control_epochs_array + patient_epochs_array\n",
        "epochs_labels = control_epochs_labels + patient_epochs_labels\n",
        "print(len(epochs_array),len(epochs_labels))"
      ],
      "metadata": {
        "colab": {
          "base_uri": "https://localhost:8080/"
        },
        "id": "DdTISiir6r-x",
        "outputId": "6cf33daf-156e-475f-d4d8-364177ac0830"
      },
      "execution_count": null,
      "outputs": [
        {
          "output_type": "stream",
          "name": "stdout",
          "text": [
            "28 28\n"
          ]
        }
      ]
    },
    {
      "cell_type": "code",
      "source": [
        "group_list = [[i]*len(j) for i , j  in enumerate(epochs_array)]\n",
        "len(group_list)"
      ],
      "metadata": {
        "colab": {
          "base_uri": "https://localhost:8080/"
        },
        "id": "NQbTBmZm6vPJ",
        "outputId": "92d66595-a148-40af-c83c-8b35356edbce"
      },
      "execution_count": null,
      "outputs": [
        {
          "output_type": "execute_result",
          "data": {
            "text/plain": [
              "28"
            ]
          },
          "metadata": {},
          "execution_count": 17
        }
      ]
    },
    {
      "cell_type": "code",
      "source": [
        "data_array = np.vstack(epochs_array)\n",
        "label_array = np.hstack(epochs_labels)\n",
        "group_array = np.hstack(group_list)\n",
        "print(data_array.shape, label_array.shape,group_array.shape )"
      ],
      "metadata": {
        "colab": {
          "base_uri": "https://localhost:8080/"
        },
        "id": "Bof5SCPu6yE-",
        "outputId": "0811fba8-1ed9-4b65-98dc-080417ac5731"
      },
      "execution_count": null,
      "outputs": [
        {
          "output_type": "stream",
          "name": "stdout",
          "text": [
            "(6843, 19, 1250) (6843,) (6843,)\n"
          ]
        }
      ]
    },
    {
      "cell_type": "code",
      "source": [
        "# Save the arrays\n",
        "np.save('/content/drive/My Drive/data_array.npy', data_array)\n",
        "np.save('/content/drive/My Drive/label_array.npy', label_array)\n",
        "np.save('/content/drive/My Drive/group_array.npy', group_array)"
      ],
      "metadata": {
        "id": "JJ1Viglh68q0"
      },
      "execution_count": null,
      "outputs": []
    }
  ]
}