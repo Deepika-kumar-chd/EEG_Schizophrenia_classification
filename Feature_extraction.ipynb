{
  "nbformat": 4,
  "nbformat_minor": 0,
  "metadata": {
    "colab": {
      "provenance": []
    },
    "kernelspec": {
      "name": "python3",
      "display_name": "Python 3"
    },
    "language_info": {
      "name": "python"
    }
  },
  "cells": [
    {
      "cell_type": "markdown",
      "source": [
        "**Features for schizophrenia classification:**\n",
        "\n",
        "\n",
        "1.   **Gamma Power**: Measures the power within the gamma frequency range (30-100 Hz), as alterations in gamma oscillations are often associated with cognitive dysfunction in schizophrenia.\n",
        "2.   **Relative Gamma Power**: Represents the proportion of gamma power relative to total power, highlighting the prominence of gamma activity in schizophrenia-related brain alterations.\n",
        "3.   **Connectivity**: Assesses functional connectivity between brain regions, as schizophrenia often shows disrupted communication between distant brain regions.\n",
        "4.   **Phase-Locking Value (PLV)**: Quantifies phase synchronization between EEG signals, capturing impairments in the coherence of brain oscillations in schizophrenia.\n",
        "5.   **Coherence**: Evaluates the synchrony between different EEG channels, reflecting abnormal connectivity and network interactions in schizophrenia.\n",
        "\n",
        "\n",
        "\n"
      ],
      "metadata": {
        "id": "eVKUSnsYrN62"
      }
    },
    {
      "cell_type": "code",
      "execution_count": null,
      "metadata": {
        "colab": {
          "base_uri": "https://localhost:8080/"
        },
        "collapsed": true,
        "id": "gPCLYnjZjTuE",
        "outputId": "65834966-4b3e-42ab-9809-790fbbce82c1"
      },
      "outputs": [
        {
          "output_type": "stream",
          "name": "stdout",
          "text": [
            "Collecting mne\n",
            "  Downloading mne-1.9.0-py3-none-any.whl.metadata (20 kB)\n",
            "Requirement already satisfied: decorator in /usr/local/lib/python3.11/dist-packages (from mne) (4.4.2)\n",
            "Requirement already satisfied: jinja2 in /usr/local/lib/python3.11/dist-packages (from mne) (3.1.5)\n",
            "Requirement already satisfied: lazy-loader>=0.3 in /usr/local/lib/python3.11/dist-packages (from mne) (0.4)\n",
            "Requirement already satisfied: matplotlib>=3.6 in /usr/local/lib/python3.11/dist-packages (from mne) (3.10.0)\n",
            "Requirement already satisfied: numpy<3,>=1.23 in /usr/local/lib/python3.11/dist-packages (from mne) (1.26.4)\n",
            "Requirement already satisfied: packaging in /usr/local/lib/python3.11/dist-packages (from mne) (24.2)\n",
            "Requirement already satisfied: pooch>=1.5 in /usr/local/lib/python3.11/dist-packages (from mne) (1.8.2)\n",
            "Requirement already satisfied: scipy>=1.9 in /usr/local/lib/python3.11/dist-packages (from mne) (1.13.1)\n",
            "Requirement already satisfied: tqdm in /usr/local/lib/python3.11/dist-packages (from mne) (4.67.1)\n",
            "Requirement already satisfied: contourpy>=1.0.1 in /usr/local/lib/python3.11/dist-packages (from matplotlib>=3.6->mne) (1.3.1)\n",
            "Requirement already satisfied: cycler>=0.10 in /usr/local/lib/python3.11/dist-packages (from matplotlib>=3.6->mne) (0.12.1)\n",
            "Requirement already satisfied: fonttools>=4.22.0 in /usr/local/lib/python3.11/dist-packages (from matplotlib>=3.6->mne) (4.55.7)\n",
            "Requirement already satisfied: kiwisolver>=1.3.1 in /usr/local/lib/python3.11/dist-packages (from matplotlib>=3.6->mne) (1.4.8)\n",
            "Requirement already satisfied: pillow>=8 in /usr/local/lib/python3.11/dist-packages (from matplotlib>=3.6->mne) (11.1.0)\n",
            "Requirement already satisfied: pyparsing>=2.3.1 in /usr/local/lib/python3.11/dist-packages (from matplotlib>=3.6->mne) (3.2.1)\n",
            "Requirement already satisfied: python-dateutil>=2.7 in /usr/local/lib/python3.11/dist-packages (from matplotlib>=3.6->mne) (2.8.2)\n",
            "Requirement already satisfied: platformdirs>=2.5.0 in /usr/local/lib/python3.11/dist-packages (from pooch>=1.5->mne) (4.3.6)\n",
            "Requirement already satisfied: requests>=2.19.0 in /usr/local/lib/python3.11/dist-packages (from pooch>=1.5->mne) (2.32.3)\n",
            "Requirement already satisfied: MarkupSafe>=2.0 in /usr/local/lib/python3.11/dist-packages (from jinja2->mne) (3.0.2)\n",
            "Requirement already satisfied: six>=1.5 in /usr/local/lib/python3.11/dist-packages (from python-dateutil>=2.7->matplotlib>=3.6->mne) (1.17.0)\n",
            "Requirement already satisfied: charset-normalizer<4,>=2 in /usr/local/lib/python3.11/dist-packages (from requests>=2.19.0->pooch>=1.5->mne) (3.4.1)\n",
            "Requirement already satisfied: idna<4,>=2.5 in /usr/local/lib/python3.11/dist-packages (from requests>=2.19.0->pooch>=1.5->mne) (3.10)\n",
            "Requirement already satisfied: urllib3<3,>=1.21.1 in /usr/local/lib/python3.11/dist-packages (from requests>=2.19.0->pooch>=1.5->mne) (2.3.0)\n",
            "Requirement already satisfied: certifi>=2017.4.17 in /usr/local/lib/python3.11/dist-packages (from requests>=2.19.0->pooch>=1.5->mne) (2024.12.14)\n",
            "Downloading mne-1.9.0-py3-none-any.whl (7.4 MB)\n",
            "\u001b[2K   \u001b[90m━━━━━━━━━━━━━━━━━━━━━━━━━━━━━━━━━━━━━━━━\u001b[0m \u001b[32m7.4/7.4 MB\u001b[0m \u001b[31m63.0 MB/s\u001b[0m eta \u001b[36m0:00:00\u001b[0m\n",
            "\u001b[?25hInstalling collected packages: mne\n",
            "Successfully installed mne-1.9.0\n"
          ]
        }
      ],
      "source": [
        "!pip install mne"
      ]
    },
    {
      "cell_type": "code",
      "source": [
        "import mne\n",
        "import numpy as np\n",
        "import matplotlib.pyplot as plt"
      ],
      "metadata": {
        "id": "WRl-YHvSjf8B"
      },
      "execution_count": null,
      "outputs": []
    },
    {
      "cell_type": "code",
      "source": [
        "data_array = np.load('/content/drive/My Drive/data_array.npy')\n",
        "print(data_array.shape)"
      ],
      "metadata": {
        "colab": {
          "base_uri": "https://localhost:8080/"
        },
        "id": "AURXb0-CjuGl",
        "outputId": "377df605-b119-4f84-9d09-63788862262b"
      },
      "execution_count": null,
      "outputs": [
        {
          "output_type": "stream",
          "name": "stdout",
          "text": [
            "(6843, 19, 1250)\n"
          ]
        }
      ]
    },
    {
      "cell_type": "code",
      "source": [
        "from scipy.signal import welch,coherence,hilbert"
      ],
      "metadata": {
        "id": "F2RwGHdij_Aq"
      },
      "execution_count": null,
      "outputs": []
    },
    {
      "cell_type": "code",
      "source": [
        "# Define gamma frequency range\n",
        "FREQ_MIN, FREQ_MAX = 30, 100  # Gamma band\n",
        "SFREQ = 250  # Sampling frequency\n",
        "N_PERSEG = 512  # Segment length for Welch\n",
        "\n",
        "def gamma_power(x):\n",
        "\n",
        "  freqs, psd = welch(x, fs=SFREQ, nperseg=512)  # Compute PSD\n",
        "  gamma_idx = np.logical_and(freqs >= FREQ_MIN, freqs <= FREQ_MAX)\n",
        "  return np.mean(psd[:, gamma_idx], axis=-1)  # Compute mean gamma power\n",
        "\n",
        "def relative_gamma_power(x):\n",
        "\n",
        "  freqs, psd = welch(x, fs=SFREQ, nperseg=512)  # Compute PSD\n",
        "  gamma_idx = np.logical_and(freqs >= FREQ_MIN, freqs <= FREQ_MAX)\n",
        "\n",
        "  gamma_power = np.mean(psd[:, gamma_idx], axis=-1)\n",
        "  total_power = np.sum(psd, axis=-1)  # Sum across all frequencies\n",
        "\n",
        "  return gamma_power / total_power  # Relative power\n",
        "\n",
        "\n",
        "# Function to compute Connectivity (Correlation)\n",
        "def connectivity(x):\n",
        "    # Compute correlation matrix (cross-correlation of all channel pairs)\n",
        "    corr_matrix = np.corrcoef(x)  # x is of shape (n_channels, n_samples)\n",
        "\n",
        "    # Flatten the upper triangular part (excluding diagonal) for connectivity features\n",
        "    # This gives a symmetric matrix, so we don't need both sides\n",
        "    upper_triangular = corr_matrix[np.triu_indices(corr_matrix.shape[0], 1)]\n",
        "\n",
        "    return upper_triangular\n",
        "\n",
        "# Function to compute Phase-Locking Value (PLV)\n",
        "def plv(x):\n",
        "    analytic_signal = hilbert(x)  # Apply Hilbert Transform\n",
        "    phases = np.angle(analytic_signal)  # Extract phase\n",
        "    plv_matrix = np.zeros((x.shape[0], x.shape[0]))  # (19, 19)\n",
        "    for i in range(x.shape[0]):\n",
        "        for j in range(i + 1, x.shape[0]):\n",
        "            plv_matrix[i, j] = np.abs(np.mean(np.exp(1j * (phases[i] - phases[j]))))\n",
        "    return plv_matrix[np.triu_indices(x.shape[0], k=1)]  # Upper triangle values (171,)\n",
        "\n",
        "\n",
        "# Function to compute Coherence between channel pairs\n",
        "def coh(x):\n",
        "    coh_matrix = np.zeros((x.shape[0], x.shape[0]))  # (19, 19)\n",
        "    # Compute coherence for all pairs in a vectorized manner\n",
        "    freqs, _ = coherence(x[0], x[0], fs=SFREQ, nperseg=512)  # Get frequency bins once\n",
        "    gamma_idx = np.logical_and(freqs >= FREQ_MIN, freqs <= FREQ_MAX)  # Precompute gamma band index\n",
        "\n",
        "    for i in range(x.shape[0]):\n",
        "        for j in range(i + 1, x.shape[0]):\n",
        "            _, Cxy  = coherence(x[i], x[j], fs=SFREQ, nperseg=512)\n",
        "            coh_matrix[i, j] = np.mean(Cxy[gamma_idx])  # Extract gamma band coherence\n",
        "            coh_matrix[j, i] = coh_matrix[i, j]  # Fill the symmetric matrix\n",
        "\n",
        "    return coh_matrix[np.triu_indices(x.shape[0], k=1)]  # Upper triangle values (171,)\n",
        "\n",
        "\n",
        "# Function to concatenate features\n",
        "def concatenate_features(x):\n",
        "    return np.concatenate((gamma_power(x),relative_gamma_power(x),connectivity(x),plv(x),coh(x)), axis=-1)\n"
      ],
      "metadata": {
        "id": "NIsWJ80SkGYB"
      },
      "execution_count": null,
      "outputs": []
    },
    {
      "cell_type": "code",
      "source": [
        "features=[]\n",
        "for d in data_array:\n",
        "  features.append(concatenate_features(d))"
      ],
      "metadata": {
        "id": "UerPFuD9kO_n"
      },
      "execution_count": null,
      "outputs": []
    },
    {
      "cell_type": "code",
      "source": [
        "features_array = np.array(features)\n",
        "features_array.shape"
      ],
      "metadata": {
        "colab": {
          "base_uri": "https://localhost:8080/"
        },
        "id": "TqkmMp5CkP_N",
        "outputId": "d17c2dfb-d00a-49a5-ebc9-656c3e926ed3"
      },
      "execution_count": null,
      "outputs": [
        {
          "output_type": "execute_result",
          "data": {
            "text/plain": [
              "(6843, 551)"
            ]
          },
          "metadata": {},
          "execution_count": 7
        }
      ]
    },
    {
      "cell_type": "code",
      "source": [
        "# Save the array\n",
        "np.save('/content/drive/My Drive/features_array.npy', features_array)"
      ],
      "metadata": {
        "id": "J_YlLrdPkVXI"
      },
      "execution_count": null,
      "outputs": []
    }
  ]
}