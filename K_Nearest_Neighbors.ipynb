{
  "nbformat": 4,
  "nbformat_minor": 0,
  "metadata": {
    "colab": {
      "provenance": []
    },
    "kernelspec": {
      "name": "python3",
      "display_name": "Python 3"
    },
    "language_info": {
      "name": "python"
    }
  },
  "cells": [
    {
      "cell_type": "markdown",
      "source": [
        "**K-Nearest Neighbors (KNN)**\n",
        "\n",
        "KNN is a non-parametric, distance-based algorithm that classifies a new sample by considering the majority class among its K nearest neighbors in the feature space. Since EEG data often contains complex, non-linear patterns, KNN can be useful in capturing similarities between subjects with Schizophrenia and healthy controls."
      ],
      "metadata": {
        "id": "mkvry8DBLMS5"
      }
    },
    {
      "cell_type": "code",
      "execution_count": 1,
      "metadata": {
        "colab": {
          "base_uri": "https://localhost:8080/"
        },
        "collapsed": true,
        "id": "c1Cs8cYKcQJM",
        "outputId": "ff1ce81f-f0bc-4084-d3da-2488b737bf0f"
      },
      "outputs": [
        {
          "output_type": "stream",
          "name": "stdout",
          "text": [
            "Collecting mne\n",
            "  Downloading mne-1.9.0-py3-none-any.whl.metadata (20 kB)\n",
            "Requirement already satisfied: decorator in /usr/local/lib/python3.11/dist-packages (from mne) (4.4.2)\n",
            "Requirement already satisfied: jinja2 in /usr/local/lib/python3.11/dist-packages (from mne) (3.1.5)\n",
            "Requirement already satisfied: lazy-loader>=0.3 in /usr/local/lib/python3.11/dist-packages (from mne) (0.4)\n",
            "Requirement already satisfied: matplotlib>=3.6 in /usr/local/lib/python3.11/dist-packages (from mne) (3.10.0)\n",
            "Requirement already satisfied: numpy<3,>=1.23 in /usr/local/lib/python3.11/dist-packages (from mne) (1.26.4)\n",
            "Requirement already satisfied: packaging in /usr/local/lib/python3.11/dist-packages (from mne) (24.2)\n",
            "Requirement already satisfied: pooch>=1.5 in /usr/local/lib/python3.11/dist-packages (from mne) (1.8.2)\n",
            "Requirement already satisfied: scipy>=1.9 in /usr/local/lib/python3.11/dist-packages (from mne) (1.13.1)\n",
            "Requirement already satisfied: tqdm in /usr/local/lib/python3.11/dist-packages (from mne) (4.67.1)\n",
            "Requirement already satisfied: contourpy>=1.0.1 in /usr/local/lib/python3.11/dist-packages (from matplotlib>=3.6->mne) (1.3.1)\n",
            "Requirement already satisfied: cycler>=0.10 in /usr/local/lib/python3.11/dist-packages (from matplotlib>=3.6->mne) (0.12.1)\n",
            "Requirement already satisfied: fonttools>=4.22.0 in /usr/local/lib/python3.11/dist-packages (from matplotlib>=3.6->mne) (4.55.8)\n",
            "Requirement already satisfied: kiwisolver>=1.3.1 in /usr/local/lib/python3.11/dist-packages (from matplotlib>=3.6->mne) (1.4.8)\n",
            "Requirement already satisfied: pillow>=8 in /usr/local/lib/python3.11/dist-packages (from matplotlib>=3.6->mne) (11.1.0)\n",
            "Requirement already satisfied: pyparsing>=2.3.1 in /usr/local/lib/python3.11/dist-packages (from matplotlib>=3.6->mne) (3.2.1)\n",
            "Requirement already satisfied: python-dateutil>=2.7 in /usr/local/lib/python3.11/dist-packages (from matplotlib>=3.6->mne) (2.8.2)\n",
            "Requirement already satisfied: platformdirs>=2.5.0 in /usr/local/lib/python3.11/dist-packages (from pooch>=1.5->mne) (4.3.6)\n",
            "Requirement already satisfied: requests>=2.19.0 in /usr/local/lib/python3.11/dist-packages (from pooch>=1.5->mne) (2.32.3)\n",
            "Requirement already satisfied: MarkupSafe>=2.0 in /usr/local/lib/python3.11/dist-packages (from jinja2->mne) (3.0.2)\n",
            "Requirement already satisfied: six>=1.5 in /usr/local/lib/python3.11/dist-packages (from python-dateutil>=2.7->matplotlib>=3.6->mne) (1.17.0)\n",
            "Requirement already satisfied: charset-normalizer<4,>=2 in /usr/local/lib/python3.11/dist-packages (from requests>=2.19.0->pooch>=1.5->mne) (3.4.1)\n",
            "Requirement already satisfied: idna<4,>=2.5 in /usr/local/lib/python3.11/dist-packages (from requests>=2.19.0->pooch>=1.5->mne) (3.10)\n",
            "Requirement already satisfied: urllib3<3,>=1.21.1 in /usr/local/lib/python3.11/dist-packages (from requests>=2.19.0->pooch>=1.5->mne) (2.3.0)\n",
            "Requirement already satisfied: certifi>=2017.4.17 in /usr/local/lib/python3.11/dist-packages (from requests>=2.19.0->pooch>=1.5->mne) (2025.1.31)\n",
            "Downloading mne-1.9.0-py3-none-any.whl (7.4 MB)\n",
            "\u001b[2K   \u001b[90m━━━━━━━━━━━━━━━━━━━━━━━━━━━━━━━━━━━━━━━━\u001b[0m \u001b[32m7.4/7.4 MB\u001b[0m \u001b[31m54.3 MB/s\u001b[0m eta \u001b[36m0:00:00\u001b[0m\n",
            "\u001b[?25hInstalling collected packages: mne\n",
            "Successfully installed mne-1.9.0\n"
          ]
        }
      ],
      "source": [
        "!pip install mne"
      ]
    },
    {
      "cell_type": "code",
      "source": [
        "import numpy as np"
      ],
      "metadata": {
        "id": "dYnbQNrrUiW9"
      },
      "execution_count": 2,
      "outputs": []
    },
    {
      "cell_type": "code",
      "source": [
        "# Load the data from drive\n",
        "data_array = np.load('/content/drive/My Drive/data_array.npy')\n",
        "label_array = np.load('/content/drive/My Drive/label_array.npy')\n",
        "group_array = np.load('/content/drive/My Drive/group_array.npy')\n",
        "features_array = np.load('/content/drive/My Drive/features_array.npy')\n",
        "\n",
        "print(data_array.shape, label_array.shape, group_array.shape,features_array.shape)"
      ],
      "metadata": {
        "colab": {
          "base_uri": "https://localhost:8080/"
        },
        "id": "UOQVtCq5g4GA",
        "outputId": "ec8a18d2-a65d-4a9a-9bfc-53da70a548f4"
      },
      "execution_count": 3,
      "outputs": [
        {
          "output_type": "stream",
          "name": "stdout",
          "text": [
            "(6843, 19, 1250) (6843,) (6843,) (6843, 551)\n"
          ]
        }
      ]
    },
    {
      "cell_type": "markdown",
      "source": [
        "# ML model"
      ],
      "metadata": {
        "id": "CP3ott80gzPW"
      }
    },
    {
      "cell_type": "code",
      "source": [
        "!pip install scikit-learn"
      ],
      "metadata": {
        "colab": {
          "base_uri": "https://localhost:8080/"
        },
        "id": "4kSro5EjU8gT",
        "outputId": "ea3abca3-3434-46be-876a-8e06cdec2067"
      },
      "execution_count": 4,
      "outputs": [
        {
          "output_type": "stream",
          "name": "stdout",
          "text": [
            "Requirement already satisfied: scikit-learn in /usr/local/lib/python3.11/dist-packages (1.6.1)\n",
            "Requirement already satisfied: numpy>=1.19.5 in /usr/local/lib/python3.11/dist-packages (from scikit-learn) (1.26.4)\n",
            "Requirement already satisfied: scipy>=1.6.0 in /usr/local/lib/python3.11/dist-packages (from scikit-learn) (1.13.1)\n",
            "Requirement already satisfied: joblib>=1.2.0 in /usr/local/lib/python3.11/dist-packages (from scikit-learn) (1.4.2)\n",
            "Requirement already satisfied: threadpoolctl>=3.1.0 in /usr/local/lib/python3.11/dist-packages (from scikit-learn) (3.5.0)\n"
          ]
        }
      ]
    },
    {
      "cell_type": "code",
      "source": [
        "import matplotlib.pyplot as plt\n",
        "import seaborn as sns\n",
        "from sklearn.model_selection import GroupKFold, GridSearchCV\n",
        "from sklearn.pipeline import Pipeline\n",
        "from sklearn.preprocessing import StandardScaler\n",
        "from sklearn.neighbors import KNeighborsClassifier\n",
        "from sklearn.metrics import classification_report, confusion_matrix"
      ],
      "metadata": {
        "id": "zJdL9I6DVC15"
      },
      "execution_count": 5,
      "outputs": []
    },
    {
      "cell_type": "code",
      "source": [
        "# Define KNN classifier\n",
        "knn = KNeighborsClassifier()\n",
        "\n",
        "# Define Group K-Fold\n",
        "gkf = GroupKFold(n_splits=5)\n",
        "\n",
        "# Define pipeline\n",
        "pipe = Pipeline([\n",
        "    ('scaler', StandardScaler()),\n",
        "    ('knn', knn)\n",
        "])\n",
        "\n",
        "# Define hyperparameter grid\n",
        "param_grid = {\n",
        "    'knn__n_neighbors': [3, 5, 7, 9, 11],  # Test different k values\n",
        "    'knn__weights': ['uniform', 'distance'],  # Weighting method\n",
        "    'knn__p': [1, 2]  # 1 = Manhattan, 2 = Euclidean\n",
        "}\n",
        "\n",
        "# Perform Grid Search with GroupKFold Cross-Validation\n",
        "gscv = GridSearchCV(pipe, param_grid, cv=gkf, n_jobs=-1, verbose=1)\n",
        "\n",
        "# Train model\n",
        "gscv.fit(features_array, label_array, groups=group_array)\n",
        "best_model = gscv.best_estimator_\n",
        "\n",
        "# Print best parameters and score\n",
        "print(\"Best Parameters:\", gscv.best_params_)\n",
        "print(\"Best Score:\", gscv.best_score_)"
      ],
      "metadata": {
        "colab": {
          "base_uri": "https://localhost:8080/"
        },
        "id": "hUOay3IJhHpk",
        "outputId": "02d508b6-31c8-4f33-f877-9ad34be1a795"
      },
      "execution_count": 6,
      "outputs": [
        {
          "output_type": "stream",
          "name": "stdout",
          "text": [
            "Fitting 5 folds for each of 20 candidates, totalling 100 fits\n",
            "Best Parameters: {'knn__n_neighbors': 11, 'knn__p': 2, 'knn__weights': 'uniform'}\n",
            "Best Score: 0.6021955490236988\n"
          ]
        }
      ]
    },
    {
      "cell_type": "markdown",
      "source": [
        "# Classification report and Confusion matrix  "
      ],
      "metadata": {
        "id": "ZAhqcT8iQP9-"
      }
    },
    {
      "cell_type": "code",
      "source": [
        "# Initialize arrays for storing results\n",
        "y_true_all = []\n",
        "y_pred_all = []\n",
        "\n",
        "# Perform GroupKFold cross-validation manually with the best model\n",
        "for train_idx, test_idx in gkf.split(features_array, label_array, groups=group_array):\n",
        "    # Split data\n",
        "    X_train, X_test = features_array[train_idx], features_array[test_idx]\n",
        "    y_train, y_test = label_array[train_idx], label_array[test_idx]\n",
        "\n",
        "    # Fit the best model on training data\n",
        "    best_model.fit(X_train, y_train)\n",
        "\n",
        "    # Predict on test data\n",
        "    y_pred = best_model.predict(X_test)\n",
        "\n",
        "    # Store true and predicted labels\n",
        "    y_true_all.extend(y_test)\n",
        "    y_pred_all.extend(y_pred)\n",
        "\n",
        "# Convert lists to numpy arrays\n",
        "y_true_all = np.array(y_true_all)\n",
        "y_pred_all = np.array(y_pred_all)\n",
        "\n",
        "# Compute classification report\n",
        "print(\"Classification Report:\")\n",
        "print(classification_report(y_true_all, y_pred_all))\n",
        "\n",
        "# Compute confusion matrix\n",
        "cm = confusion_matrix(y_true_all, y_pred_all)\n",
        "\n",
        "# Plot confusion matrix\n",
        "plt.figure(figsize=(6, 5))\n",
        "sns.heatmap(cm, annot=True, fmt=\"d\", cmap=\"Blues\", xticklabels=[\"Healthy\", \"Schizophrenia\"], yticklabels=[\"Healthy\", \"Schizophrenia\"])\n",
        "plt.xlabel(\"Predicted Label\")\n",
        "plt.ylabel(\"True Label\")\n",
        "plt.title(\"Confusion Matrix\")\n",
        "plt.show()"
      ],
      "metadata": {
        "colab": {
          "base_uri": "https://localhost:8080/",
          "height": 661
        },
        "id": "467zXEAXQLlc",
        "outputId": "2ddc1292-831a-4771-9295-cc95c0ae90c1"
      },
      "execution_count": 7,
      "outputs": [
        {
          "output_type": "stream",
          "name": "stdout",
          "text": [
            "Classification Report:\n",
            "              precision    recall  f1-score   support\n",
            "\n",
            "           0       0.56      0.64      0.60      3183\n",
            "           1       0.64      0.57      0.60      3660\n",
            "\n",
            "    accuracy                           0.60      6843\n",
            "   macro avg       0.60      0.60      0.60      6843\n",
            "weighted avg       0.61      0.60      0.60      6843\n",
            "\n"
          ]
        },
        {
          "output_type": "display_data",
          "data": {
            "text/plain": [
              "<Figure size 600x500 with 2 Axes>"
            ],
            "image/png": "[encoded data removed]"
          },
          "metadata": {}
        }
      ]
    }
  ]
}